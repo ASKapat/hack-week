{
 "cells": [
  {
   "cell_type": "markdown",
   "id": "757ac9bb",
   "metadata": {},
   "source": [
    "An Introduction to SunPy! \n",
    "=====================\n",
    "\n",
    "The [`sunpy`](https://sunpy.org\n",
    ") Python package is a community-developed, free, and open-source solar data analysis environment for Python!  \n",
    "\n",
    "sunpy provides the core functionality and tools to analyze solar data with Python.\n",
    "\n",
    "In this notebook the main components and functionality of sunpy will be demonstrated. \n",
    "An overview is:\n",
    "\n",
    "1. Introduction to Fido for querying and downloading solar data\n",
    "2. Coordinates in sunpy \n",
    "3. Data Containers - TimeSeries and Map<img src=\"https://raw.githubusercontent.com/sunpy/sunpy.org/main/_static/img/sunpy_icon.svg\" alt=\"logo\" width=\"100\" align=\"right\"/>"
   ]
  },
  {
   "cell_type": "code",
   "execution_count": 1,
   "id": "d8b8150e",
   "metadata": {},
   "outputs": [],
   "source": [
    "from sunpy.net import Fido, attrs as a \n",
    "from sunpy.coordinates import frames, get_body_heliographic_stonyhurst, get_horizons_coord\n",
    "import sunpy.timeseries\n",
    "import sunpy.map\n",
    "from sunpy.data.sample import AIA_171_IMAGE, GOES_XRS_TIMESERIES\n",
    "from sunpy.time import parse_time\n",
    "\n",
    "from astropy import units as u\n",
    "from astropy.coordinates import SkyCoord\n",
    "\n",
    "import matplotlib.pyplot as plt \n",
    "import numpy as np "
   ]
  },
  {
   "cell_type": "markdown",
   "id": "6a0bda3b",
   "metadata": {},
   "source": [
    "1.Searching and Downloading Data\n",
    "===========================\n",
    "\n",
    "\n",
    "\n",
    "## Overview of sunpy's Fido Unified Downloader\n",
    "\n",
    "\n",
    "* [`Fido`](https://docs.sunpy.org/en/stable/guide/acquiring_data/fido.html#fido-guide) is sunpy's interface for searching and downloading solar physics data.\n",
    "\n",
    "* It offers a unified interface for searching and fetching data irrespective of the underlying client or webservice from where the data is obtained.\n",
    "\n",
    "* Offers a way to search and accesses multiple instruments and all available data providers in a single query.\n",
    "\n",
    "* It supplies a single, easy, consistent and *extendable* way to get most forms of solar physics data the community need \n",
    "\n",
    "Fido offers access to data available through:\n",
    "\n",
    " * **VSO**\n",
    " * **JSOC** (through `drms`)\n",
    " * **Individual data providers** from web accessible sources (http, ftp, etc)\n",
    " * **HEK**\n",
    " * **HELIO**"
   ]
  },
  {
   "cell_type": "code",
   "execution_count": 2,
   "id": "2161418a",
   "metadata": {},
   "outputs": [
    {
     "data": {
      "text/html": [
       "<p>sunpy.net.Fido</p>\n",
       "<p>\n",
       "Fido is a unified data search and retrieval tool.\n",
       "\n",
       "It provides simultaneous access to a variety of online data sources, some\n",
       "cover multiple instruments and data products like the Virtual Solar\n",
       "Observatory and some are specific to a single source.\n",
       "\n",
       "For details of using `~sunpy.net.Fido` see :ref:`fido_guide`.\n",
       "\n",
       "</p>\n",
       "<table id=\"table4464584016\">\n",
       "<thead><tr><th>Client</th><th>Description</th></tr></thead>\n",
       "<tr><td>EVEClient</td><td>Provides access to Level 0C Extreme ultraviolet Variability Experiment (EVE) data.</td></tr>\n",
       "<tr><td>GBMClient</td><td>Provides access to data from the Gamma-Ray Burst Monitor (GBM) instrument on board the Fermi satellite.</td></tr>\n",
       "<tr><td>XRSClient</td><td>Provides access to the GOES XRS fits files archive.</td></tr>\n",
       "<tr><td>SUVIClient</td><td>Provides access to data from the GOES Solar Ultraviolet Imager (SUVI).</td></tr>\n",
       "<tr><td>GONGClient</td><td>Provides access to the Magnetogram products of NSO-GONG synoptic Maps.</td></tr>\n",
       "<tr><td>...</td><td>...</td></tr>\n",
       "<tr><td>NoRHClient</td><td>Provides access to the Nobeyama RadioHeliograph (NoRH) averaged correlation time series data.</td></tr>\n",
       "<tr><td>RHESSIClient</td><td>Provides access to the RHESSI observing summary time series data.</td></tr>\n",
       "<tr><td>HEKClient</td><td>Provides access to the Heliophysics Event Knowledgebase (HEK).</td></tr>\n",
       "<tr><td>HECClient</td><td>Provides access to the HELIO webservices.</td></tr>\n",
       "<tr><td>JSOCClient</td><td>Provides access to the JSOC Data Export service.</td></tr>\n",
       "<tr><td>VSOClient</td><td>Provides access to query and download from Virtual Solar Observatory (VSO).</td></tr>\n",
       "</table>\n",
       "Length = 15 rows"
      ],
      "text/plain": [
       "<sunpy.net.fido_factory.UnifiedDownloaderFactory object at 0x13fe6c5e0>\n",
       "sunpy.net.Fido\n",
       "\n",
       "Fido is a unified data search and retrieval tool.\n",
       "\n",
       "It provides simultaneous access to a variety of online data sources, some\n",
       "cover multiple instruments and data products like the Virtual Solar\n",
       "Observatory and some are specific to a single source.\n",
       "\n",
       "For details of using `~sunpy.net.Fido` see :ref:`fido_guide`.\n",
       "\n",
       "\n",
       "   Client                                                  Description                                              \n",
       "------------ -------------------------------------------------------------------------------------------------------\n",
       "EVEClient    Provides access to Level 0C Extreme ultraviolet Variability Experiment (EVE) data.                     \n",
       "GBMClient    Provides access to data from the Gamma-Ray Burst Monitor (GBM) instrument on board the Fermi satellite.\n",
       "XRSClient    Provides access to the GOES XRS fits files archive.                                                    \n",
       "SUVIClient   Provides access to data from the GOES Solar Ultraviolet Imager (SUVI).                                 \n",
       "GONGClient   Provides access to the Magnetogram products of NSO-GONG synoptic Maps.                                 \n",
       "...          ...                                                                                                    \n",
       "NoRHClient   Provides access to the Nobeyama RadioHeliograph (NoRH) averaged correlation time series data.          \n",
       "RHESSIClient Provides access to the RHESSI observing summary time series data.                                      \n",
       "HEKClient    Provides access to the Heliophysics Event Knowledgebase (HEK).                                         \n",
       "HECClient    Provides access to the HELIO webservices.                                                              \n",
       "JSOCClient   Provides access to the JSOC Data Export service.                                                       \n",
       "VSOClient    Provides access to query and download from Virtual Solar Observatory (VSO).                            \n",
       "Length = 15 rows"
      ]
     },
     "execution_count": 2,
     "metadata": {},
     "output_type": "execute_result"
    }
   ],
   "source": [
    "Fido"
   ]
  },
  {
   "cell_type": "markdown",
   "id": "aae84f78",
   "metadata": {},
   "source": [
    "Sunpy uses specified *attributes* to search for data using Fido.\n",
    "Different clients and provides will have client-specific attributes, but the core attributes are:\n",
    "\n",
    "* `a.Time`\n",
    "* `a.Instrument`\n",
    "* `a.Wavelength` \n",
    "\n",
    "lets construct a search query to search for data from the Atmospheric Imaging Assembly (AIA) onboard the Solar Dynamics Observatory"
   ]
  },
  {
   "cell_type": "code",
   "execution_count": 3,
   "id": "dd26a998",
   "metadata": {},
   "outputs": [],
   "source": [
    "result = Fido.search(a.Time(\"2021-05-23 11:00\", \"2021-05-23 11:05\"), \n",
    "                     a.Instrument(\"AIA\"))"
   ]
  },
  {
   "cell_type": "code",
   "execution_count": 4,
   "id": "e754fd80",
   "metadata": {},
   "outputs": [
    {
     "data": {
      "text/html": [
       "Results from 1 Provider:</br></br>201 Results from the VSOClient:</br><i>VSOQueryResponseTable length=201</i>\n",
       "<table id=\"table5425162656\" class=\"table-striped table-bordered table-condensed\">\n",
       "<thead><tr><th>Start Time</th><th>End Time</th><th>Source</th><th>Instrument</th><th>Wavelength [2]</th><th>Provider</th><th>Physobs</th><th>Wavetype</th><th>Extent Width</th><th>Extent Length</th><th>Extent Type</th><th>Size</th><th>Info</th></tr></thead>\n",
       "<thead><tr><th></th><th></th><th></th><th></th><th>Angstrom</th><th></th><th></th><th></th><th></th><th></th><th></th><th>Mibyte</th><th></th></tr></thead>\n",
       "<thead><tr><th>object</th><th>object</th><th>str3</th><th>str3</th><th>float64</th><th>str4</th><th>str9</th><th>str6</th><th>str4</th><th>str4</th><th>str8</th><th>float64</th><th>str57</th></tr></thead>\n",
       "<tr><td>2021-05-23 11:00:00.000</td><td>2021-05-23 11:00:01.000</td><td>SDO</td><td>AIA</td><td>335.0 .. 335.0</td><td>JSOC</td><td>intensity</td><td>NARROW</td><td>4096</td><td>4096</td><td>FULLDISK</td><td>64.64844</td><td>AIA level 1, 4096x4096 [2.901 exposure] [100.00 percentd]</td></tr>\n",
       "<tr><td>2021-05-23 11:00:04.000</td><td>2021-05-23 11:00:05.000</td><td>SDO</td><td>AIA</td><td>193.0 .. 193.0</td><td>JSOC</td><td>intensity</td><td>NARROW</td><td>4096</td><td>4096</td><td>FULLDISK</td><td>64.64844</td><td>AIA level 1, 4096x4096 [2.000 exposure] [100.00 percentd]</td></tr>\n",
       "<tr><td>2021-05-23 11:00:05.000</td><td>2021-05-23 11:00:06.000</td><td>SDO</td><td>AIA</td><td>304.0 .. 304.0</td><td>JSOC</td><td>intensity</td><td>NARROW</td><td>4096</td><td>4096</td><td>FULLDISK</td><td>64.64844</td><td>AIA level 1, 4096x4096 [2.902 exposure] [100.00 percentd]</td></tr>\n",
       "<tr><td>2021-05-23 11:00:05.000</td><td>2021-05-23 11:00:06.000</td><td>SDO</td><td>AIA</td><td>4500.0 .. 4500.0</td><td>JSOC</td><td>intensity</td><td>NARROW</td><td>4096</td><td>4096</td><td>FULLDISK</td><td>64.64844</td><td>AIA level 1, 4096x4096 [0.300 exposure] [100.00 percentd]</td></tr>\n",
       "<tr><td>2021-05-23 11:00:06.000</td><td>2021-05-23 11:00:07.000</td><td>SDO</td><td>AIA</td><td>131.0 .. 131.0</td><td>JSOC</td><td>intensity</td><td>NARROW</td><td>4096</td><td>4096</td><td>FULLDISK</td><td>64.64844</td><td>AIA level 1, 4096x4096 [2.901 exposure] [100.00 percentd]</td></tr>\n",
       "<tr><td>2021-05-23 11:00:09.000</td><td>2021-05-23 11:00:10.000</td><td>SDO</td><td>AIA</td><td>171.0 .. 171.0</td><td>JSOC</td><td>intensity</td><td>NARROW</td><td>4096</td><td>4096</td><td>FULLDISK</td><td>64.64844</td><td>AIA level 1, 4096x4096 [2.000 exposure] [100.00 percentd]</td></tr>\n",
       "<tr><td>2021-05-23 11:00:09.000</td><td>2021-05-23 11:00:10.000</td><td>SDO</td><td>AIA</td><td>211.0 .. 211.0</td><td>JSOC</td><td>intensity</td><td>NARROW</td><td>4096</td><td>4096</td><td>FULLDISK</td><td>64.64844</td><td>AIA level 1, 4096x4096 [2.901 exposure] [100.00 percentd]</td></tr>\n",
       "<tr><td>2021-05-23 11:00:11.000</td><td>2021-05-23 11:00:12.000</td><td>SDO</td><td>AIA</td><td>94.0 .. 94.0</td><td>JSOC</td><td>intensity</td><td>NARROW</td><td>4096</td><td>4096</td><td>FULLDISK</td><td>64.64844</td><td>AIA level 1, 4096x4096 [2.901 exposure] [100.00 percentd]</td></tr>\n",
       "<tr><td>2021-05-23 11:00:12.000</td><td>2021-05-23 11:00:13.000</td><td>SDO</td><td>AIA</td><td>335.0 .. 335.0</td><td>JSOC</td><td>intensity</td><td>NARROW</td><td>4096</td><td>4096</td><td>FULLDISK</td><td>64.64844</td><td>AIA level 1, 4096x4096 [2.901 exposure] [100.00 percentd]</td></tr>\n",
       "<tr><td>...</td><td>...</td><td>...</td><td>...</td><td>...</td><td>...</td><td>...</td><td>...</td><td>...</td><td>...</td><td>...</td><td>...</td><td>...</td></tr>\n",
       "<tr><td>2021-05-23 11:04:47.000</td><td>2021-05-23 11:04:48.000</td><td>SDO</td><td>AIA</td><td>94.0 .. 94.0</td><td>JSOC</td><td>intensity</td><td>NARROW</td><td>4096</td><td>4096</td><td>FULLDISK</td><td>64.64844</td><td>AIA level 1, 4096x4096 [2.901 exposure] [100.00 percentd]</td></tr>\n",
       "<tr><td>2021-05-23 11:04:48.000</td><td>2021-05-23 11:04:49.000</td><td>SDO</td><td>AIA</td><td>335.0 .. 335.0</td><td>JSOC</td><td>intensity</td><td>NARROW</td><td>4096</td><td>4096</td><td>FULLDISK</td><td>64.64844</td><td>AIA level 1, 4096x4096 [2.901 exposure] [100.00 percentd]</td></tr>\n",
       "<tr><td>2021-05-23 11:04:52.000</td><td>2021-05-23 11:04:53.000</td><td>SDO</td><td>AIA</td><td>1700.0 .. 1700.0</td><td>JSOC</td><td>intensity</td><td>NARROW</td><td>4096</td><td>4096</td><td>FULLDISK</td><td>64.64844</td><td>AIA level 1, 4096x4096 [1.001 exposure] [100.00 percentd]</td></tr>\n",
       "<tr><td>2021-05-23 11:04:53.000</td><td>2021-05-23 11:04:54.000</td><td>SDO</td><td>AIA</td><td>304.0 .. 304.0</td><td>JSOC</td><td>intensity</td><td>NARROW</td><td>4096</td><td>4096</td><td>FULLDISK</td><td>64.64844</td><td>AIA level 1, 4096x4096 [2.902 exposure] [100.00 percentd]</td></tr>\n",
       "<tr><td>2021-05-23 11:04:54.000</td><td>2021-05-23 11:04:55.000</td><td>SDO</td><td>AIA</td><td>131.0 .. 131.0</td><td>JSOC</td><td>intensity</td><td>NARROW</td><td>4096</td><td>4096</td><td>FULLDISK</td><td>64.64844</td><td>AIA level 1, 4096x4096 [2.901 exposure] [100.00 percentd]</td></tr>\n",
       "<tr><td>2021-05-23 11:04:54.000</td><td>2021-05-23 11:04:55.000</td><td>SDO</td><td>AIA</td><td>193.0 .. 193.0</td><td>JSOC</td><td>intensity</td><td>NARROW</td><td>4096</td><td>4096</td><td>FULLDISK</td><td>64.64844</td><td>AIA level 1, 4096x4096 [0.689 exposure] [100.00 percentd]</td></tr>\n",
       "<tr><td>2021-05-23 11:04:57.000</td><td>2021-05-23 11:04:58.000</td><td>SDO</td><td>AIA</td><td>171.0 .. 171.0</td><td>JSOC</td><td>intensity</td><td>NARROW</td><td>4096</td><td>4096</td><td>FULLDISK</td><td>64.64844</td><td>AIA level 1, 4096x4096 [2.000 exposure] [100.00 percentd]</td></tr>\n",
       "<tr><td>2021-05-23 11:04:59.000</td><td>2021-05-23 11:05:00.000</td><td>SDO</td><td>AIA</td><td>94.0 .. 94.0</td><td>JSOC</td><td>intensity</td><td>NARROW</td><td>4096</td><td>4096</td><td>FULLDISK</td><td>64.64844</td><td>AIA level 1, 4096x4096 [2.901 exposure] [100.00 percentd]</td></tr>\n",
       "<tr><td>2021-05-23 11:05:00.000</td><td>2021-05-23 11:05:01.000</td><td>SDO</td><td>AIA</td><td>335.0 .. 335.0</td><td>JSOC</td><td>intensity</td><td>NARROW</td><td>4096</td><td>4096</td><td>FULLDISK</td><td>64.64844</td><td>AIA level 1, 4096x4096 [2.901 exposure] [100.00 percentd]</td></tr>\n",
       "<tr><td>2021-05-23 11:05:00.000</td><td>2021-05-23 11:05:01.000</td><td>SDO</td><td>AIA</td><td>211.0 .. 211.0</td><td>JSOC</td><td>intensity</td><td>NARROW</td><td>4096</td><td>4096</td><td>FULLDISK</td><td>64.64844</td><td>AIA level 1, 4096x4096 [0.693 exposure] [100.00 percentd]</td></tr>\n",
       "</table></br>"
      ],
      "text/plain": [
       "<sunpy.net.fido_factory.UnifiedResponse object at 0x10a28a3a0>\n",
       "Results from 1 Provider:\n",
       "\n",
       "201 Results from the VSOClient:\n",
       "       Start Time       ...\n",
       "                        ...\n",
       "----------------------- ...\n",
       "2021-05-23 11:00:00.000 ...\n",
       "2021-05-23 11:00:04.000 ...\n",
       "2021-05-23 11:00:05.000 ...\n",
       "2021-05-23 11:00:05.000 ...\n",
       "2021-05-23 11:00:06.000 ...\n",
       "2021-05-23 11:00:09.000 ...\n",
       "2021-05-23 11:00:09.000 ...\n",
       "2021-05-23 11:00:11.000 ...\n",
       "2021-05-23 11:00:12.000 ...\n",
       "2021-05-23 11:00:14.000 ...\n",
       "                    ... ...\n",
       "2021-05-23 11:04:47.000 ...\n",
       "2021-05-23 11:04:48.000 ...\n",
       "2021-05-23 11:04:52.000 ...\n",
       "2021-05-23 11:04:53.000 ...\n",
       "2021-05-23 11:04:54.000 ...\n",
       "2021-05-23 11:04:54.000 ...\n",
       "2021-05-23 11:04:57.000 ...\n",
       "2021-05-23 11:04:59.000 ...\n",
       "2021-05-23 11:05:00.000 ...\n",
       "2021-05-23 11:05:00.000 ...\n",
       "Length = 201 rows\n"
      ]
     },
     "execution_count": 4,
     "metadata": {},
     "output_type": "execute_result"
    }
   ],
   "source": [
    "result"
   ]
  },
  {
   "cell_type": "markdown",
   "id": "0e6f290b",
   "metadata": {},
   "source": [
    "To search for certain wavelengths, we need to specify the input as an [`astropy.Quantity`](https://docs.astropy.org/en/stable/api/astropy.units.Quantity.html#astropy.units.Quantity) which is a the combination of a value and an associated unit. This is something is universal in the sunpy stack - that every physical input/output is a `Quantity`."
   ]
  },
  {
   "cell_type": "code",
   "execution_count": null,
   "id": "a6790fbf",
   "metadata": {},
   "outputs": [],
   "source": [
    "result = Fido.search(a.Time(\"2021-05-23 11:00\", \"2021-05-23 11:05\"), \n",
    "                     a.Instrument(\"AIA\"), \n",
    "                     a.Wavelength(171*u.angstrom))"
   ]
  },
  {
   "cell_type": "code",
   "execution_count": null,
   "id": "9a4fa538",
   "metadata": {},
   "outputs": [],
   "source": [
    "result"
   ]
  },
  {
   "cell_type": "code",
   "execution_count": null,
   "id": "7bb3bf26",
   "metadata": {},
   "outputs": [],
   "source": [
    "result[0, 0]"
   ]
  },
  {
   "cell_type": "markdown",
   "id": "ad36b900",
   "metadata": {},
   "source": [
    "Now we can show how data that is queried above can be downloaded. Once the data you have searched for (and filtered etc) is constructed into a query using `Fido.search`, you can then easily download them using `Fido.fetch`.\n",
    "\n",
    "The data is downloaded via asynchronous and parallel download streams (via `parfive`), and also allows for failed data downloads to be recognized so that files can be re-requested if not downloaded. \n",
    "\n",
    "Lets just download the first query result for brevity."
   ]
  },
  {
   "cell_type": "code",
   "execution_count": null,
   "id": "d1f92649",
   "metadata": {},
   "outputs": [],
   "source": [
    "files = Fido.fetch(result[0, 0])"
   ]
  },
  {
   "cell_type": "code",
   "execution_count": null,
   "id": "5c1c332f",
   "metadata": {},
   "outputs": [],
   "source": [
    "files"
   ]
  },
  {
   "cell_type": "markdown",
   "id": "593cdad8",
   "metadata": {},
   "source": [
    "2.Coordinates\n",
    "===========\n",
    "\n",
    "SunPy uses astropy.coordinates to represent points in physical space. This applies to both points in 3D space and projected coordinates in images.\n",
    "\n",
    "The `sunpy.coordinates` sub-package contains:\n",
    "\n",
    "* A robust framework for working with solar-physics coordinate systems\n",
    "* Functions to obtain the locations of solar-system bodies (`sunpy.coordinates.ephemeris`)\n",
    "* Functions to calculate Sun-specific coordinate information (`sunpy.coordinates.sun`)"
   ]
  },
  {
   "cell_type": "markdown",
   "id": "ad831fd7",
   "metadata": {},
   "source": [
    "A SkyCoord object to represent a point on the Sun can then be created:"
   ]
  },
  {
   "cell_type": "code",
   "execution_count": null,
   "id": "cb6f6af1",
   "metadata": {},
   "outputs": [],
   "source": [
    "c = SkyCoord(70*u.deg, -30*u.deg, obstime=\"2017-08-01\",\n",
    "             frame=frames.HeliographicStonyhurst)\n",
    "\n",
    "c"
   ]
  },
  {
   "cell_type": "markdown",
   "id": "9a014bd7",
   "metadata": {},
   "source": [
    "We can then transform this coordinate to the any defined coordinate frame defined in astropy or sunpy. Lets transform it to the Helioprojective frame (which is observer-based)"
   ]
  },
  {
   "cell_type": "code",
   "execution_count": null,
   "id": "e5c1b043",
   "metadata": {},
   "outputs": [],
   "source": [
    "c.transform_to(frames.Helioprojective(observer=\"earth\"))"
   ]
  },
  {
   "cell_type": "markdown",
   "id": "035e66ce",
   "metadata": {},
   "source": [
    "We can also convert these coordinates to astrophysical frames defined in astropy, e.g. ICRS"
   ]
  },
  {
   "cell_type": "code",
   "execution_count": null,
   "id": "d5b9cbc1",
   "metadata": {},
   "outputs": [],
   "source": [
    "c.transform_to('icrs')"
   ]
  },
  {
   "cell_type": "markdown",
   "id": "ba18d51f",
   "metadata": {},
   "source": [
    "2 . Data Containers\n",
    "=============\n",
    "\n",
    "SunPy provides core data type classes that are designed to provide a consistent interface across data types (timeseries and images) as well as data sources from numerous instruments and observations. They handle all of the manipulation necessary to read data in from mission-specific files. The two main datatypes in SunPy are the `TimeSeries` and `Map` classes."
   ]
  },
  {
   "cell_type": "markdown",
   "id": "ce2d2f50",
   "metadata": {},
   "source": [
    "## TimeSeries\n",
    "\n",
    "The structure of a [`TimeSeries`](https://docs.sunpy.org/en/stable/guide/data_types/timeseries.html) consists of times and measurements and the underlying structure is that of a pandas.DataFrame. SunPy TimeSeries supports time-series data from a wide range of solar-focused instruments. TimeSeries from different instruments are created in the sunpy.timeseries.TimeSeries factory.\n",
    "\n",
    "\n",
    "Lets create a timeseries from out sample data which is X-ray flux from the GOES X-ray Sensor Data"
   ]
  },
  {
   "cell_type": "code",
   "execution_count": null,
   "id": "a7479a86",
   "metadata": {},
   "outputs": [],
   "source": [
    "GOES_XRS_TIMESERIES"
   ]
  },
  {
   "cell_type": "markdown",
   "id": "0f5f1df4",
   "metadata": {},
   "source": [
    "TimeSeries which will automatically detect the instrument source when passed supported files"
   ]
  },
  {
   "cell_type": "code",
   "execution_count": null,
   "id": "1db1d1ad",
   "metadata": {},
   "outputs": [],
   "source": [
    "xrs_ts = sunpy.timeseries.TimeSeries(GOES_XRS_TIMESERIES)"
   ]
  },
  {
   "cell_type": "markdown",
   "id": "602d50e0",
   "metadata": {},
   "source": [
    "We can plot the data, and inspect the data with .peek()"
   ]
  },
  {
   "cell_type": "code",
   "execution_count": null,
   "id": "d7e6d794",
   "metadata": {},
   "outputs": [],
   "source": [
    "xrs_ts.peek()"
   ]
  },
  {
   "cell_type": "code",
   "execution_count": null,
   "id": "b0e37833",
   "metadata": {},
   "outputs": [],
   "source": [
    "xrs_ts.meta"
   ]
  },
  {
   "cell_type": "code",
   "execution_count": null,
   "id": "3bdbcb68",
   "metadata": {},
   "outputs": [],
   "source": [
    "xrs_ts.units"
   ]
  },
  {
   "cell_type": "code",
   "execution_count": null,
   "id": "5c53a691",
   "metadata": {},
   "outputs": [],
   "source": [
    "xrs_ts.quantity('xrsa')"
   ]
  },
  {
   "cell_type": "code",
   "execution_count": null,
   "id": "b0cc17cc",
   "metadata": {},
   "outputs": [],
   "source": [
    "xrs_ts.to_dataframe()"
   ]
  },
  {
   "cell_type": "code",
   "execution_count": null,
   "id": "48b85a60",
   "metadata": {},
   "outputs": [],
   "source": [
    "xrs_ts.truncate(\"2011-06-07 06:00\", \"2011-06-07 12:00\").peek()"
   ]
  },
  {
   "cell_type": "markdown",
   "id": "b077c8af",
   "metadata": {},
   "source": [
    "## Map\n",
    "\n",
    "The sunpy [`Map`](https://docs.sunpy.org/en/stable/guide/data_types/maps.html) class provides the data type structure to store 2-dimensional data associated with a coordinate system.  This allows users to store and manipulate images of the Sun and the heliosphere\n",
    "\n",
    "Maps from all instruments are created using the `sunpy.map.Map` 'factory'. This class takes a wide variety of map-like inputs, for one or more maps and returns you one or many maps. All maps, irrespective of the instrument, behave the same and expose the same functions and properties, however, depending on the instrument different metadata might be read or corrections made."
   ]
  },
  {
   "cell_type": "code",
   "execution_count": null,
   "id": "6c0ff80c",
   "metadata": {},
   "outputs": [],
   "source": [
    "aia171 = sunpy.map.Map(AIA_171_IMAGE)"
   ]
  },
  {
   "cell_type": "code",
   "execution_count": null,
   "id": "5e0851f9",
   "metadata": {},
   "outputs": [],
   "source": [
    "aia171"
   ]
  },
  {
   "cell_type": "code",
   "execution_count": null,
   "id": "88aa68bc",
   "metadata": {},
   "outputs": [],
   "source": [
    "aia171.unit"
   ]
  },
  {
   "cell_type": "markdown",
   "id": "ce7c26a7",
   "metadata": {},
   "source": [
    "`Map` has a set of attributes which give access to common metadata, which provides a consistent interface for different instruments, lets look at some of these here"
   ]
  },
  {
   "cell_type": "code",
   "execution_count": null,
   "id": "e5bb9875",
   "metadata": {},
   "outputs": [],
   "source": [
    "aia171.instrument"
   ]
  },
  {
   "cell_type": "code",
   "execution_count": null,
   "id": "6b1530cf",
   "metadata": {},
   "outputs": [],
   "source": [
    "aia171.wavelength"
   ]
  },
  {
   "cell_type": "markdown",
   "id": "b960ee74",
   "metadata": {},
   "source": [
    "The Map also contains the coordinate specific information to the Map"
   ]
  },
  {
   "cell_type": "code",
   "execution_count": null,
   "id": "163fcce4",
   "metadata": {},
   "outputs": [],
   "source": [
    "aia171.coordinate_frame"
   ]
  },
  {
   "cell_type": "code",
   "execution_count": null,
   "id": "9f129b06",
   "metadata": {},
   "outputs": [],
   "source": [
    "aia171.observer_coordinate"
   ]
  },
  {
   "cell_type": "code",
   "execution_count": null,
   "id": "6922a7dc",
   "metadata": {},
   "outputs": [],
   "source": [
    "aia171.wcs"
   ]
  },
  {
   "cell_type": "markdown",
   "id": "2a0560e5",
   "metadata": {},
   "source": [
    "### Plotting a Map\n",
    "\n",
    "SunPy map uses the [`astropy.visualization.wcsaxes`](https://docs.astropy.org/en/stable/visualization/wcsaxes/index.html#module-astropy.visualization.wcsaxes) module to represent world coordinates. "
   ]
  },
  {
   "cell_type": "code",
   "execution_count": null,
   "id": "85ec46b1",
   "metadata": {},
   "outputs": [],
   "source": [
    "fig = plt.figure(figsize=(8, 8))\n",
    "im = aia171.plot(clip_interval=[1, 99.9]*u.percent)\n",
    "fig.colorbar(im)"
   ]
  },
  {
   "cell_type": "markdown",
   "id": "9d403089",
   "metadata": {},
   "source": [
    "We can take advantage of WCS Axes to overplot coordinates ontop of this map"
   ]
  },
  {
   "cell_type": "code",
   "execution_count": null,
   "id": "de50215a",
   "metadata": {},
   "outputs": [],
   "source": [
    "fig = plt.figure(figsize=(8, 8))\n",
    "\n",
    "ax = fig.add_subplot(projection=aia171)\n",
    "aia171.plot(axes=ax, clip_interval=[1, 99.9]*u.percent)\n",
    "\n",
    "aia171.draw_grid(axes=ax)\n",
    "\n",
    "ax.plot_coord(SkyCoord(200*u.arcsec, -500*u.arcsec, frame=aia171.coordinate_frame), marker='o', ms=10, color='b')\n",
    "ax.plot_coord(SkyCoord(20*u.deg, 30*u.deg, frame='heliographic_stonyhurst'), marker='x', ms=10, color='b')"
   ]
  },
  {
   "cell_type": "markdown",
   "id": "5c2c66bd",
   "metadata": {},
   "source": [
    "##  Positions of bodies in space example\n",
    "\n",
    "`sunpy.coordinates` provides functions to obtain the coordinates of solar-system bodies.  For bodies that are in the current Astropy ephemeris (e.g., planets), you can use [`get_body_heliographic_stonyhurst()`](https://docs.sunpy.org/en/stable/api/sunpy.coordinates.get_body_heliographic_stonyhurst.html)\n",
    "\n"
   ]
  },
  {
   "cell_type": "code",
   "execution_count": null,
   "id": "f241ba33",
   "metadata": {},
   "outputs": [],
   "source": [
    "earth = SkyCoord(get_body_heliographic_stonyhurst('earth', obstime_seq))"
   ]
  },
  {
   "cell_type": "markdown",
   "id": "aff9759f",
   "metadata": {},
   "source": [
    "For other solar-system bodies (e.g., major man-made spacecraft or comets), you can use [`get_horizons_coord()`](https://docs.sunpy.org/en/stable/api/sunpy.coordinates.get_horizons_coord.html#sunpy.coordinates.get_horizons_coord), which queries JPL HORIZONS:"
   ]
  },
  {
   "cell_type": "code",
   "execution_count": null,
   "id": "ec487a71",
   "metadata": {},
   "outputs": [],
   "source": [
    "solo_coord = get_horizons_coord('Solar Orbiter', \"2021-06-30\")"
   ]
  },
  {
   "cell_type": "code",
   "execution_count": null,
   "id": "42cd9bf7",
   "metadata": {},
   "outputs": [],
   "source": [
    "solo_coord"
   ]
  },
  {
   "cell_type": "code",
   "execution_count": null,
   "id": "3801dced",
   "metadata": {},
   "outputs": [],
   "source": [
    "solo_coord.heliocentricinertial"
   ]
  },
  {
   "cell_type": "markdown",
   "id": "5dc80be0",
   "metadata": {},
   "source": [
    "Lets now look for the positions of Solar Orbiter and Parker Solar Probe over a month period and plot their positons."
   ]
  },
  {
   "cell_type": "code",
   "execution_count": null,
   "id": "eccaf4ff",
   "metadata": {},
   "outputs": [],
   "source": [
    "obstime = parse_time('2021-04-22 04:30')\n",
    "obstime_seq = obstime + np.arange(-14, 14)*u.day\n",
    "\n",
    "psp_coord_seq = get_horizons_coord('Parker Solar Probe', obstime_seq)\n",
    "solo_coord_seq = get_horizons_coord('solo', obstime_seq)"
   ]
  },
  {
   "cell_type": "code",
   "execution_count": null,
   "id": "f72283c2",
   "metadata": {},
   "outputs": [],
   "source": [
    "fig = plt.figure(dpi=120)\n",
    "\n",
    "ax = fig.add_subplot(projection='polar')\n",
    "\n",
    "ax.plot(solo_coord_seq.heliocentricinertial.lon.to('rad'), solo_coord_seq.heliocentricinertial.distance,\n",
    "        '.',   label='SolO')\n",
    "\n",
    "ax.plot(psp_coord_seq.heliocentricinertial.lon.to('rad'), psp_coord_seq.heliocentricinertial.distance,\n",
    "        '.', label='PSP')\n",
    "\n",
    "ax.plot(earth.heliocentricinertial.lon.to(\"rad\"), earth.heliocentricinertial.distance, \n",
    "        \".\", label=\"Earth\")\n",
    "# plot the Sun\n",
    "r_unit = u.AU\n",
    "circle = plt.Circle((0.0, 0.0), (10*u.Rsun).to_value(r_unit),\n",
    "                    transform=ax.transProjectionAffine + ax.transAxes, color=\"yellow\",\n",
    "                    alpha=1)\n",
    "ax.add_artist(circle)\n",
    "\n",
    "ax.legend(loc='lower right')\n",
    "ax.set_title('Positions in Heliocentric Inertial (HCI)')"
   ]
  },
  {
   "cell_type": "code",
   "execution_count": null,
   "id": "203bfc41",
   "metadata": {},
   "outputs": [],
   "source": []
  },
  {
   "cell_type": "code",
   "execution_count": null,
   "id": "807c6df7",
   "metadata": {},
   "outputs": [],
   "source": []
  }
 ],
 "metadata": {
  "kernelspec": {
   "display_name": "Python 3",
   "language": "python",
   "name": "python3"
  },
  "language_info": {
   "codemirror_mode": {
    "name": "ipython",
    "version": 3
   },
   "file_extension": ".py",
   "mimetype": "text/x-python",
   "name": "python",
   "nbconvert_exporter": "python",
   "pygments_lexer": "ipython3",
   "version": "3.9.4"
  }
 },
 "nbformat": 4,
 "nbformat_minor": 5
}
